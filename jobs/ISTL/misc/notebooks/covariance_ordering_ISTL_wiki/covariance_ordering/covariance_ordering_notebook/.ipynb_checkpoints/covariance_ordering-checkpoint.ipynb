{
 "cells": [
  {
   "cell_type": "markdown",
   "id": "6d9f66ca",
   "metadata": {},
   "source": [
    "# Datavector and covariance matrix ordering\n",
    "\n",
    "D. Sciotti, M. Bonici\n",
    "\n",
    "In the following, we present the conventions used in the ordering of the datavectors and analytical covariance (Gaussian-only and Gaussian + SSC) matrices."
   ]
  },
  {
   "cell_type": "markdown",
   "id": "7684a011",
   "metadata": {},
   "source": [
    "## Angular Power Spectra\n",
    "\n",
    "The angular Power Spectra have the form $C^{AB}_{ij}(\\ell)$, with:\n",
    "* $A, B$ the photometric probe index: $A = L$ (WL) or $A = G$ (GCph). We will then have:\n",
    "    * $C^{LL}_{ij}(\\ell)$ Lensing-Lensing. This is symmetric in $(i,j)$: $C^{LL}_{ij}(\\ell) = C^{LL}_{ji}(\\ell)$\n",
    "    * $C^{LG}_{ij}(\\ell)$ Lensing-Galaxy. This matrix is **not** symmetric under exchange of $(i,j)$, but we have that: $C^{LG}_{ji}(\\ell) = C^{GL}_{ij}(\\ell)$\n",
    "    * $C^{GG}_{ij}(\\ell)$ Galaxy-Galaxy. Again, $C^{GG}_{ij}(\\ell) = C^{GG}_{ji}(\\ell)$\n",
    "   \n",
    "* $i, j$ the photo-$z$ bin indices: ($i = 1, 2, ..., N_{zbins}$). We will use $N_{zbins}=10$\n",
    "* $\\ell$ is the multipole value"
   ]
  },
  {
   "cell_type": "markdown",
   "id": "68034b27",
   "metadata": {},
   "source": [
    "For each probe combination ($LL, LG, GG$) we can arrange the $C^{AB}_{ij}(\\ell)$ in a 2- or 3-dimensional `numpy` array: \n",
    "* 3D: $C^{AB}_{ij}(\\ell)$ = `C_AB[ell, i, j]`, of shape `(ell_bins, z_bins, z_bins)`\n",
    "* 2D: $C^{AB}_{ij}(\\ell)$ = `C_AB[ell, ij]`, of shape `(ell_bins, z_pairs)`\n",
    "\n",
    "`z_pairs` being the number of unique redshift bins pairs. Being `C_LL` and `C_GG` symmetric under the exchange of redshift indices, we will have:\n",
    "- LL, GG:  `z_pairs = (z_bins*(z_bins + 1))//2` (that is, $\\frac{N_{zbins}(N_{zbins}+1)}{2}$), which is equal to 55 for `z_bins = 10` \n",
    "\n",
    "while in the case of the cross-spectrum, LG (or GL) we will have \n",
    "- LG (or GL): `z_pairs = z_bins**2` (that is, $N_{zbins}^2$), which is equal to 100 for `z_bins = 10`.\n",
    "\n",
    "Being built by the concatenating `(C_LL, C_LG, C_GG)` (in this order for CLOE) the 3x2pt datavector will have instead\n",
    "* 3x2pt: `z_pairs = z_pairs_auto` + `z_pairs_cross` + `z_pairs_auto`, which equals 210 for `z_bins= 10`."
   ]
  },
  {
   "cell_type": "markdown",
   "id": "0fca1137",
   "metadata": {},
   "source": [
    "The mapping `ij <-> [i, j]` can be described by an array of shape `(z_pairs, 2)`, which we call `ind`. The row index corresponds to `ij`, and the values in the first and second column will correspond to `i` and `j`, respectively. In this way, the ordering of the photometric bins can be modified easily by passing a different `ind` array. For LL and GG, we take `j from 0 to zbins` and `i from j to zbins` for each given `ell`. \n",
    "This corresponds to a column-major, lower triangular ordering; for LG/GL we use `j from 0 to zbins` and `i from 0 to zbins`, which again is a column-major ordering:"
   ]
  },
  {
   "cell_type": "code",
   "execution_count": 1,
   "id": "e7d65ecf",
   "metadata": {},
   "outputs": [],
   "source": [
    "import numpy as np\n",
    "z_bins = 10\n",
    "\n",
    "z_pairs_auto = z_bins*(z_bins+1)//2 # = 55\n",
    "z_pairs_cross = z_bins**2 # = 100\n",
    "\n",
    "ind_auto = np.zeros((z_pairs_auto, 2)) # for LL and GG\n",
    "ind_cross = np.zeros((z_pairs_cross, 2)) # for LG/GL\n",
    "\n",
    "ij = 0\n",
    "for j in range(z_bins):\n",
    "    for i in range(j, z_bins):\n",
    "        ind_auto[ij, :] = i, j\n",
    "        ij += 1\n",
    "        \n",
    "ij = 0\n",
    "for j in range(z_bins):\n",
    "    for i in range(z_bins):\n",
    "        ind_cross[ij, :] = i, j\n",
    "        ij += 1\n",
    "        \n",
    "\n",
    "ind_auto = ind_auto.astype('int') \n",
    "ind_cross = ind_cross.astype('int')"
   ]
  },
  {
   "cell_type": "code",
   "execution_count": 2,
   "id": "efc13f29",
   "metadata": {
    "scrolled": true
   },
   "outputs": [
    {
     "name": "stdout",
     "output_type": "stream",
     "text": [
      "WL and GCph \t\t LG/GL\n",
      "____________________________________\n",
      "ij \t i,j \t\t ij \t i,j\n",
      "0 \t 0 0 \t\t 0 \t 0 0\n",
      "1 \t 1 0 \t\t 1 \t 1 0\n",
      "2 \t 2 0 \t\t 2 \t 2 0\n",
      "3 \t 3 0 \t\t 3 \t 3 0\n",
      "4 \t 4 0 \t\t 4 \t 4 0\n",
      "5 \t 5 0 \t\t 5 \t 5 0\n",
      "6 \t 6 0 \t\t 6 \t 6 0\n",
      "7 \t 7 0 \t\t 7 \t 7 0\n",
      "8 \t 8 0 \t\t 8 \t 8 0\n",
      "9 \t 9 0 \t\t 9 \t 9 0\n",
      "10 \t 1 1 \t\t 10 \t 0 1\n",
      "11 \t 2 1 \t\t 11 \t 1 1\n",
      "12 \t 3 1 \t\t 12 \t 2 1\n",
      "13 \t 4 1 \t\t 13 \t 3 1\n",
      "14 \t 5 1 \t\t 14 \t 4 1\n",
      "15 \t 6 1 \t\t 15 \t 5 1\n",
      "16 \t 7 1 \t\t 16 \t 6 1\n",
      "17 \t 8 1 \t\t 17 \t 7 1\n",
      "18 \t 9 1 \t\t 18 \t 8 1\n",
      "19 \t 2 2 \t\t 19 \t 9 1\n",
      "20 \t 3 2 \t\t 20 \t 0 2\n",
      "21 \t 4 2 \t\t 21 \t 1 2\n",
      "22 \t 5 2 \t\t 22 \t 2 2\n",
      "23 \t 6 2 \t\t 23 \t 3 2\n",
      "24 \t 7 2 \t\t 24 \t 4 2\n",
      "25 \t 8 2 \t\t 25 \t 5 2\n",
      "26 \t 9 2 \t\t 26 \t 6 2\n",
      "27 \t 3 3 \t\t 27 \t 7 2\n",
      "28 \t 4 3 \t\t 28 \t 8 2\n",
      "29 \t 5 3 \t\t 29 \t 9 2\n",
      "30 \t 6 3 \t\t 30 \t 0 3\n",
      "31 \t 7 3 \t\t 31 \t 1 3\n",
      "32 \t 8 3 \t\t 32 \t 2 3\n",
      "33 \t 9 3 \t\t 33 \t 3 3\n",
      "34 \t 4 4 \t\t 34 \t 4 3\n",
      "35 \t 5 4 \t\t 35 \t 5 3\n",
      "36 \t 6 4 \t\t 36 \t 6 3\n",
      "37 \t 7 4 \t\t 37 \t 7 3\n",
      "38 \t 8 4 \t\t 38 \t 8 3\n",
      "39 \t 9 4 \t\t 39 \t 9 3\n",
      "40 \t 5 5 \t\t 40 \t 0 4\n",
      "41 \t 6 5 \t\t 41 \t 1 4\n",
      "42 \t 7 5 \t\t 42 \t 2 4\n",
      "43 \t 8 5 \t\t 43 \t 3 4\n",
      "44 \t 9 5 \t\t 44 \t 4 4\n",
      "45 \t 6 6 \t\t 45 \t 5 4\n",
      "46 \t 7 6 \t\t 46 \t 6 4\n",
      "47 \t 8 6 \t\t 47 \t 7 4\n",
      "48 \t 9 6 \t\t 48 \t 8 4\n",
      "49 \t 7 7 \t\t 49 \t 9 4\n",
      "50 \t 8 7 \t\t 50 \t 0 5\n",
      "51 \t 9 7 \t\t 51 \t 1 5\n",
      "52 \t 8 8 \t\t 52 \t 2 5\n",
      "53 \t 9 8 \t\t 53 \t 3 5\n",
      "54 \t 9 9 \t\t 54 \t 4 5\n",
      "\t\t\t ... \t ...\n"
     ]
    }
   ],
   "source": [
    "print('WL and GCph \\t\\t LG/GL')\n",
    "print('____________________________________')\n",
    "print('ij \\t i,j \\t\\t ij \\t i,j')\n",
    "for ij in range(z_pairs_auto):\n",
    "    print(ij, '\\t', ind_auto[ij, 0], ind_auto[ij, 1], '\\t\\t', ij, '\\t', ind_cross[ij, 0], ind_cross[ij, 1])\n",
    "print('\\t\\t\\t ... \\t ...')"
   ]
  },
  {
   "cell_type": "markdown",
   "id": "019208fb",
   "metadata": {},
   "source": [
    "We can visualize these in the plot below: the label on each cell is the `ij` index, and the cell indices (row, column) are the `[i, j]` indices. "
   ]
  },
  {
   "cell_type": "markdown",
   "id": "eb97c451",
   "metadata": {},
   "source": [
    "A | B\n",
    "- | - \n",
    "![alt](cov_unpacking_indCLOE_auto.png) | ![alt](cov_unpacking_indCLOE_XC.png)"
   ]
  },
  {
   "cell_type": "markdown",
   "id": "5d40c539",
   "metadata": {},
   "source": [
    "It is the easy to switch from 2-dimensional to 3-dimensional $C(\\ell)$s by using the `ind` array; taking `LL` as an example:"
   ]
  },
  {
   "cell_type": "code",
   "execution_count": 3,
   "id": "7745b51d",
   "metadata": {
    "scrolled": true
   },
   "outputs": [],
   "source": [
    "ell_bins = 20\n",
    "C_LL_2D = np.zeros((ell_bins, z_pairs_auto))\n",
    "C_LL_3D = np.load('C_LL_3D.npy')\n",
    "\n",
    "for ell in range(ell_bins):\n",
    "    for ij in range(z_pairs_auto):\n",
    "        i, j = ind_auto[ij, 0], ind_auto[ij, 1]\n",
    "        C_LL_2D[ell, ij] = C_LL_3D[ell, i, j]"
   ]
  },
  {
   "cell_type": "markdown",
   "id": "76014e8e",
   "metadata": {},
   "source": [
    "# Covariance matrix"
   ]
  },
  {
   "cell_type": "markdown",
   "id": "669049eb",
   "metadata": {},
   "source": [
    "## 10- ( or 6-) dim\n",
    "Just as the $C(\\ell)$s can be organized _unambiguously_ (without the need to specify ordering conventions) in a 3-dimensional array of the type `C_AB[ell, i, j]` - once the probes A and B have been chosen -, the covariance matrix can be organized unambiguously in a 10-dimentional array:\n",
    "\n",
    "`cov[A, B, C, D, ell1, ell2, i, j, k, l]`\n",
    "\n",
    "with:\n",
    "* `A, B, C, D` probe indices e.g. `0` or `'L'` for WL, `1` or `'G'` for GCph\n",
    "* `ell1, ell2` multipole bin indices, from 1 to ell_bins\n",
    "* `i, j, k, l` redshift bin indices, from 1 to z_bins \n",
    "\n",
    "In practice, the first four can be fixed for WL and GCph, so that, for example, `cov_LL_LL` (the lensing-lensing covariance, with `A = B = C = D = 0` (or `'L'`) is a 6-dimensional array: `cov[ell1, ell2, i, j, k, l]`). \n",
    "\n",
    "This arrangement is quite intuitive, but there are two issues:\n",
    "* for WL and GCph (but not for LG/GL), there is a symmetry under the exchange of indices `i<->j` and `k<->l`, as seen above. This means that many elements of the array are repeated, taking up storage (and slowing the computation of the 6-dim covariance itself)\n",
    "* this format is very easy to save and load, for example, in `npy` format, but trickier to save as a `csv`, `txt` or `dat` file.\n",
    "* Moreover, it's impossible to visualize the whole matrix \"at a glance\", unlike if it had only two dimensions.\n",
    "\n",
    "**note**: since the Gaussian covariance is diagonal in $\\ell$, one could actually use a 5-dim array: `cov[ell, i, j, k, l]`"
   ]
  },
  {
   "cell_type": "markdown",
   "id": "45db1486",
   "metadata": {},
   "source": [
    "## 6-dim to 4-dim\n",
    "A more compact representation of the covariance is as a 4-dimensional array of the form `cov[ell1, ell2, ij, kl]`, with `ij, kl` from 1 to `z_pairs` (which, as outlined above, is 55 for WL and GCph and 100 for LG/GL, in the case of 10 tomographic bins). **This ordering depends on the convention chosen to compress `i, j` into `ij` and `k, l` into `kl`, which is specified by the `ind` array**. This is exactly the same indices compression seen above for the $C(\\ell)$s.\n",
    "\n",
    "After performing this rearrangement, we can visualize the `ell1 = ell2 = 0` covariance for the 3x2pt, to highlight two other ordering conventions:\n",
    "* whether to use LG or GL\n",
    "* which ordering to use for the probes: whether (LL, LG, GG) or different combinations (e.g. (GG, LG, LL))\n",
    "\n",
    "these conventions will have to be used also for the datavector and/or its derivatives, in order to be consistent with the structure of the covariance matrix. The LL-LL and GG-GG blocks of this matrix correspond respectively to the WL-only and GCph-only covariance matrices (unless different settings, eg a different $\\ell_{max}$ are used for the 3x2pt)"
   ]
  },
  {
   "cell_type": "markdown",
   "id": "76032a7e",
   "metadata": {},
   "source": [
    "<img src=\"cov_3x2pt_4D_G.png\" alt=\"drawing\" width=\"550\"/>"
   ]
  },
  {
   "cell_type": "markdown",
   "id": "8e76eb55",
   "metadata": {},
   "source": [
    "## 4-dim to 2-dim\n",
    "Finally, we can reshape the matrix into a 2-dimensional one, i.e. from shape `(ell_bins, ell_bins, z_pairs, z_pairs)` to `(ell_bins x z_pairs, ell_bins x z_pairs)`. To do this we construct a block matrix, indexed by `(ell1, ell2)`, with each block of shape `(zpairs, zpairs)`. In the Gaussian case, this matrix is block diagonal, with each block on the diagonal corresponding to a different `ell` value: the first block will correspond to `cov_4D[0, 0, :, :]` (the same one as in the image above), the second to `cov_4D[1, 1, :, :]` and so forth.  \n",
    "\n",
    "Note that, although this reshaping too needs convention to be specified, the internal structure of the blocks as well as the total number of elements remain the same (as opposed to the 6-dim to 4-dim reduction).\n",
    "\n",
    "This representation makes it easy to see how the SSC introduces correlation between different multipoles. "
   ]
  },
  {
   "cell_type": "markdown",
   "id": "44beadbf",
   "metadata": {},
   "source": [
    "<img src=\"cov_3x2pt_2D_G.png\" alt=\"drawing\" width=\"950\"/>"
   ]
  },
  {
   "cell_type": "markdown",
   "id": "0a23435e",
   "metadata": {},
   "source": [
    "For the datavector, this further rearrangement of the covariance matrix corresponds to flattining the array from 2-dim (that is, `(ell_bins, z_pairs)` as seen above), to 1-dim `(ell_bins x z_pairs)`. As for the covariance, we list all tomographic pairs for each `ell` value, not the other way round:"
   ]
  },
  {
   "cell_type": "code",
   "execution_count": 4,
   "id": "f898fc3f",
   "metadata": {},
   "outputs": [],
   "source": [
    "C_LL_1D = np.zeros((ell_bins*z_pairs_auto))\n",
    "p = 0\n",
    "for ell in range(ell_bins): # the outer loop runs over the multipole bins\n",
    "    for ij in range(z_pairs_auto): # the inner loop runs over the tomographic pairs\n",
    "        C_LL_1D[p] = C_LL_2D[ell, ij] # at this stage no 'ind' array needs to be used\n",
    "        p+=1"
   ]
  },
  {
   "cell_type": "markdown",
   "id": "7bec9a06",
   "metadata": {},
   "source": [
    "## In short\n",
    "Several conventions have to be specified to define an ordering for the covariance matrix and datavector. In particular, these are:\n",
    "1. Which unpacking to use to flatten the tomographic bin dimensions from `[i, j]` to  `ij` (eg column-wise, lower traingular). In practice, this can be specified through the `ind` array\n",
    "2. Whether to use LG or GL in the 3x2pt datavector\n",
    "3. How to order the probes in the 3x2pt datavector: (LL, LG, GG) vs (GG, LG, LL), ...\n",
    "4. How to order the 2D matrix (that is, how to mix the ell and ij indices so that the 4D matrix is reshaped from the 4D matrix `(ell_bins, ell_bins, z_pairs, z_pairs)` to `(ell_bins x z_pairs, ell_bins x z_pairs)`. This convention is the same used in the flattening of the datavector from `(ell_bins, z_pairs)` to `(ell_bins x z_pairs)`: "
   ]
  },
  {
   "cell_type": "markdown",
   "id": "52ee977b",
   "metadata": {},
   "source": [
    "## CLOE's conventions"
   ]
  },
  {
   "cell_type": "markdown",
   "id": "a27acaeb",
   "metadata": {},
   "source": [
    "1. `ind` file: the ordering is the one outlined and represented above, along with the code to generate it for the auto and cross spectra and covariance.\n",
    "2. LG vs GL: CLOE uses LG\n",
    "3. CLOE's 3x2pt ordering: (LL, LG, GG)\n",
    "4. the covariance 4-dim to 2-dim reshaping (which follows the same rule as the datavector 2-dim to 1-dim reshaping) follows the rule shown above: `ij` from `0` to `z_pairs` for each `ell`"
   ]
  },
  {
   "cell_type": "code",
   "execution_count": null,
   "id": "a70894a5",
   "metadata": {},
   "outputs": [],
   "source": []
  },
  {
   "cell_type": "code",
   "execution_count": null,
   "id": "5251ebdc",
   "metadata": {},
   "outputs": [],
   "source": []
  },
  {
   "cell_type": "code",
   "execution_count": null,
   "id": "a70099fc",
   "metadata": {},
   "outputs": [],
   "source": []
  }
 ],
 "metadata": {
  "kernelspec": {
   "display_name": "Python 3 (ipykernel)",
   "language": "python",
   "name": "python3"
  },
  "language_info": {
   "codemirror_mode": {
    "name": "ipython",
    "version": 3
   },
   "file_extension": ".py",
   "mimetype": "text/x-python",
   "name": "python",
   "nbconvert_exporter": "python",
   "pygments_lexer": "ipython3",
   "version": "3.9.7"
  }
 },
 "nbformat": 4,
 "nbformat_minor": 5
}
