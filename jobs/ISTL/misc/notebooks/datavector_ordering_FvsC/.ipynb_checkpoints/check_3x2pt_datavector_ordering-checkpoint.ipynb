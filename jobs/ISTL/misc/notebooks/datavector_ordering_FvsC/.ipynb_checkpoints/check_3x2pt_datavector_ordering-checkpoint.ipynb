{
 "cells": [
  {
   "cell_type": "markdown",
   "id": "a0fe9c02-4ba5-4cf9-b548-d213ba7463ff",
   "metadata": {},
   "source": [
    "# Checking ordering for the 3x2pt datavector"
   ]
  },
  {
   "cell_type": "code",
   "execution_count": 1,
   "id": "7b65c11e-ef8a-4a14-8dce-9f5de354e409",
   "metadata": {},
   "outputs": [],
   "source": [
    "import sys\n",
    "import time\n",
    "import matplotlib\n",
    "import matplotlib.pyplot as plt\n",
    "import numpy as np\n",
    "import matplotlib.image as mpimg\n",
    "%matplotlib inline\n",
    "params = {'lines.linewidth': 3.5,\n",
    "          'font.size': 20,\n",
    "          'axes.labelsize': 'x-large',\n",
    "          'axes.titlesize': 'x-large',\n",
    "          'xtick.labelsize': 'x-large',\n",
    "          'ytick.labelsize': 'x-large',\n",
    "          'mathtext.fontset': 'stix',\n",
    "          'font.family': 'STIXGeneral'\n",
    "          }\n",
    "plt.rcParams.update(params)"
   ]
  },
  {
   "cell_type": "code",
   "execution_count": 2,
   "id": "92d9f074-0649-4e0e-8aee-705100d9aa5b",
   "metadata": {},
   "outputs": [],
   "source": [
    "z_pairs = 55\n",
    "nbl = 20"
   ]
  },
  {
   "cell_type": "code",
   "execution_count": 3,
   "id": "dabcd0d7-3aa5-4036-9a9c-bdd7cd649ff7",
   "metadata": {},
   "outputs": [],
   "source": [
    "# cloe's 3x2pt flattened, ready to be multiplied by the covariance matrix\n",
    "D_3x2pt = np.genfromtxt('input/CLOE-3x2pt-TheoryVector_NLflag1.txt')\n",
    "\n",
    "# 2-dim vectors from the repo\n",
    "cl_LL = np.genfromtxt('input/Cls_zNLA_ShearShear_NL_flag_1.dat')\n",
    "cl_GL = np.genfromtxt('input/Cls_zNLA_PosShear_NL_flag_1.dat')\n",
    "cl_GG = np.genfromtxt('input/Cls_zNLA_PosPos_NL_flag_1.dat')\n",
    "\n",
    "# remove ell column\n",
    "cl_LL = cl_LL[:, 1:]\n",
    "cl_GL = cl_GL[:, 1:]\n",
    "cl_GG = cl_GG[:, 1:]"
   ]
  },
  {
   "cell_type": "code",
   "execution_count": 4,
   "id": "cdd5941f-fbe6-4b7e-8d48-ee22b9a86c03",
   "metadata": {},
   "outputs": [
    {
     "name": "stdout",
     "output_type": "stream",
     "text": [
      "(20, 55) = (ell_bins, z_pairs)\n"
     ]
    }
   ],
   "source": [
    "print(cl_LL.shape, '= (ell_bins, z_pairs)')"
   ]
  },
  {
   "cell_type": "markdown",
   "id": "66e96fa0-8318-4c7d-a44a-d12ecea44a12",
   "metadata": {
    "tags": []
   },
   "source": [
    "## Questions:\n",
    "- concatenate, then flatten or flatten, then concatenate?\n",
    "- are the ell values unraveled before the z_pair values? that is, is the flattening performed in a row-major o column_major ordering?"
   ]
  },
  {
   "cell_type": "markdown",
   "id": "9d79b31c-a416-4f29-8e6b-bbba77a0d780",
   "metadata": {},
   "source": [
    "### Check that ndarray.flatten() is equivalent to having the outer loop over ell or the redshift pair index, zpair"
   ]
  },
  {
   "cell_type": "code",
   "execution_count": 14,
   "id": "1622a592-a55f-42fe-8d33-4c6059d501c9",
   "metadata": {},
   "outputs": [
    {
     "name": "stdout",
     "output_type": "stream",
     "text": [
      "does cl_LL.flatten(order=C) - i.e. row-major (C-style) - correspond to looping over ell first? True\n"
     ]
    }
   ],
   "source": [
    "# option 1 C-style, or ell outer loop:\n",
    "count = 0\n",
    "cl_flat = np.zeros((z_pairs*nbl))\n",
    "for ell in range(nbl): # outer loop is over ell_bins \n",
    "    for zpair in range(z_pairs): \n",
    "        cl_flat[count] = cl_LL[ell, zpair]\n",
    "        count += 1\n",
    "\n",
    "print('does cl_LL.flatten(order=C) - i.e. row-major (C-style) - correspond to looping over ell first?', np.all(cl_flat == cl_LL.flatten(order='C')))"
   ]
  },
  {
   "cell_type": "code",
   "execution_count": 15,
   "id": "4d6aedde-f256-4309-b41c-beeaca4bdbd4",
   "metadata": {},
   "outputs": [
    {
     "name": "stdout",
     "output_type": "stream",
     "text": [
      "does cl_LL.flatten(order=F) - i.e. column-major (F-style) - correspond to looping over zpair first?? True\n"
     ]
    }
   ],
   "source": [
    "# option 2:\n",
    "count = 0\n",
    "cl_flat = np.zeros((z_pairs*nbl))\n",
    "for zpair in range(z_pairs): # outer loop is over z_pairs \n",
    "    for ell in range(nbl):\n",
    "        cl_flat[count] = cl_LL[ell, zpair]\n",
    "        count += 1\n",
    "\n",
    "print('does cl_LL.flatten(order=F) - i.e. column-major (F-style) - correspond to looping over zpair first??', np.all(cl_flat == cl_LL.flatten(order='F')))"
   ]
  },
  {
   "cell_type": "markdown",
   "id": "108bad31-0bff-49a8-8766-5d23166dd583",
   "metadata": {},
   "source": [
    "### Reproduce the flattened Cl array using the nested list comprehension from [euclike.py](https://gitlab.euclid-sgs.uk/pf-ist-nonlinear/likelihood-implementation/-/blob/develop/likelihood/like_calc/euclike.py#L214)\n",
    "**conclusion: the ordering is indeed F-style, or ell outer loop**"
   ]
  },
  {
   "cell_type": "code",
   "execution_count": 7,
   "id": "0b8d016f-56ca-4134-82db-6185ed45b94b",
   "metadata": {},
   "outputs": [
    {
     "name": "stdout",
     "output_type": "stream",
     "text": [
      "does the flattening follow a column-major (Fortran-style) ordering? True\n",
      "does the flattening follow a row-major (C-style) ordering? False\n"
     ]
    }
   ],
   "source": [
    "# try with list comprehensions:\n",
    "cl_flat = np.zeros((z_pairs*nbl))\n",
    "cl_flat = np.array(\n",
    "                [cl_LL[ell, zpair]\n",
    "                 for zpair in range(z_pairs)\n",
    "                 for ell in range(nbl)]\n",
    "            )\n",
    "\n",
    "print('does the flattening follow a column-major (Fortran-style) ordering?', np.all(cl_flat == cl_LL.flatten(order='F')))\n",
    "print('does the flattening follow a row-major (C-style) ordering?', np.all(cl_flat == cl_LL.flatten(order='C')))"
   ]
  },
  {
   "cell_type": "markdown",
   "id": "8fa2e6e9-27ff-4345-ad05-bcbab033eed0",
   "metadata": {},
   "source": [
    "## Reproduce the flattened datavector from `euclike.py`"
   ]
  },
  {
   "cell_type": "code",
   "execution_count": 8,
   "id": "a7f82282",
   "metadata": {},
   "outputs": [],
   "source": [
    "# snippet from euclike.py, this is the \"ind\" arrat computed by CLOE\n",
    "numtomo_wl = 10\n",
    "numtomo_gcphot = 10\n",
    "x_diagonal_wl = np.triu(np.ones((numtomo_wl, numtomo_wl)))\n",
    "indices_diagonal_wl = []\n",
    "for i in range(0, len(x_diagonal_wl)):\n",
    "    for j in range(0, len(x_diagonal_wl)):\n",
    "        if x_diagonal_wl[i, j] == 1:\n",
    "            indices_diagonal_wl.append([i + 1, j + 1])\n",
    "x_diagonal_gcphot = np.triu(np.ones((numtomo_gcphot, numtomo_gcphot)))\n",
    "indices_diagonal_gcphot = []\n",
    "for i in range(0, len(x_diagonal_gcphot)):\n",
    "    for j in range(0, len(x_diagonal_gcphot)):\n",
    "        if x_diagonal_gcphot[i, j] == 1:\n",
    "            indices_diagonal_gcphot.append([i + 1, j + 1])\n",
    "x = np.ones((numtomo_gcphot, numtomo_wl))\n",
    "indices_all = []\n",
    "for i in range(0, len(x)):\n",
    "    for j in range(0, len(x)):\n",
    "        indices_all.append([i + 1, j + 1])"
   ]
  },
  {
   "cell_type": "code",
   "execution_count": 9,
   "id": "624478f1",
   "metadata": {},
   "outputs": [],
   "source": [
    "# Import 3D (unambiguous) Cls, in this case from CosmoCentral\n",
    "Cl_WL_noprefac = np.load('/Users/davide/Documents/Lavoro/Programmi/SSC_restructured/jobs/IST_NL/input/CosmoCentral_outputs/Cl/nbl20/C_LL_3D_marco_bia0.0_nbl20.npy')\n",
    "Cl_cross_noprefac = np.load('/Users/davide/Documents/Lavoro/Programmi/SSC_restructured/jobs/IST_NL/input/CosmoCentral_outputs/Cl/nbl20/C_GL_3D_marco_bia0.0_nbl20.npy')\n",
    "\n",
    "# make the euclike ind arrays, for convenience\n",
    "indices_diagonal_wl = np.array(indices_diagonal_wl) - 1\n",
    "indices_diagonal_gcphot = np.array(indices_diagonal_gcphot) - 1\n",
    "indices_all = np.array(indices_all) - 1"
   ]
  },
  {
   "cell_type": "code",
   "execution_count": 10,
   "id": "3a506c86",
   "metadata": {},
   "outputs": [
    {
     "ename": "SyntaxError",
     "evalue": "unexpected EOF while parsing (2860759730.py, line 14)",
     "output_type": "error",
     "traceback": [
      "\u001b[0;36m  Input \u001b[0;32mIn [10]\u001b[0;36m\u001b[0m\n\u001b[0;31m    for ell in self.data_ins.data_dict['XC-Phot']['ells']]\u001b[0m\n\u001b[0m                                                          ^\u001b[0m\n\u001b[0;31mSyntaxError\u001b[0m\u001b[0;31m:\u001b[0m unexpected EOF while parsing\n"
     ]
    }
   ],
   "source": [
    "# create the flattened array \"by hand\" according to euclike.py snippet \n",
    "\n",
    "# 1. with the indices_diagonal_wl (=triu) ordering\n",
    "wl_array = np.array(\n",
    "    [Cl_WL_noprefac[ell, element[0], element[1]]\n",
    "     for element in indices_diagonal_wl\n",
    "     for ell in range(nbl)]\n",
    ")\n",
    "\n",
    "# same thing for the XC array\n",
    "xc_phot_array = np.array(\n",
    "    [Cl_cross_noprefac(ell, element[1], element[0])\n",
    "     for element in self.indices_all\n",
    "     for ell in self.data_ins.data_dict['XC-Phot']['ells']]\n"
   ]
  },
  {
   "cell_type": "code",
   "execution_count": null,
   "id": "579cdb5a-eea4-4de3-a461-cb2e15c221dd",
   "metadata": {},
   "outputs": [],
   "source": [
    "# 2. with the ind_cloe (=tril) ordering\n",
    "# it gives the same result for the auto spectra, which are symmetric\n",
    "\n",
    "ind_cloe = np.genfromtxt('/Users/davide/Documents/Lavoro/Programmi/SSC_restructured/config/common_data/ind/indici_cloe_like.dat').astype('int') - 1\n",
    "wl_array = np.array(\n",
    "    [Cl_WL_noprefac[ell, element[0], element[1]]\n",
    "     for element in ind_cloe[:55, 2:]\n",
    "     for ell in range(nbl)]\n",
    ")"
   ]
  },
  {
   "cell_type": "code",
   "execution_count": null,
   "id": "12f64839-2afd-452d-9c42-33fc9e1a7e21",
   "metadata": {},
   "outputs": [],
   "source": [
    "# 3. with the ind_vincenzo ordering - wrong results\n",
    "\n",
    "ind_vinc = np.genfromtxt('/Users/davide/Documents/Lavoro/Programmi/SSC_restructured/config/common_data/ind/indici_vincenzo_like.dat').astype('int') - 1\n",
    "wl_array = np.array(\n",
    "    [Cl_WL_noprefac[ell, element[0], element[1]]\n",
    "     for element in ind_vinc[:55, 2:]\n",
    "     for ell in range(nbl)]\n",
    ")"
   ]
  },
  {
   "cell_type": "code",
   "execution_count": null,
   "id": "34008f85",
   "metadata": {},
   "outputs": [],
   "source": [
    "# plot the different orderings\n",
    "\n",
    "plt.figure(figsize=(16, 10))\n",
    "plt.plot(wl_array)\n",
    "plt.plot(cl_LL.flatten(order='C'), '--', label='C')\n",
    "plt.plot(cl_LL.flatten(order='F'), '--', label='F')\n",
    "plt.legend()\n",
    "plt.yscale('log')"
   ]
  },
  {
   "cell_type": "markdown",
   "id": "e0a1a0a6-ce1d-4cd1-90d1-8c4e49a1a603",
   "metadata": {},
   "source": [
    "This orderings corresponds to these 2d covariance matrix ordrings:"
   ]
  },
  {
   "cell_type": "code",
   "execution_count": null,
   "id": "38f5fedc-c159-4805-bb47-ec4046a64af3",
   "metadata": {},
   "outputs": [],
   "source": [
    "cov_2D_ellblock = np.load('input/cov_2D_ellblock.npy')\n",
    "cov_2D_zblocks = np.load('input/cov_2D_zblocks.npy')\n",
    "\n",
    "fig, ax = plt.subplots(1, 3, figsize=(30,30))\n",
    "\n",
    "ax[0].matshow(np.log10(cov_2D_ellblock))\n",
    "ax[0].set_title('ell block index:\\n for each ell, take all zpairs\\nC-like flattening')\n",
    "ax[1].matshow(np.log10(cov_2D_zblocks))\n",
    "ax[1].set_title('zpair block index:\\n for each zpair, take all ells\\nFortran-like flattening')\n",
    "ax[2].matshow(np.log10(cov_2D_zblocks)[:100, :100])\n",
    "ax[2].set_title('zpair block index - zoom')"
   ]
  },
  {
   "cell_type": "markdown",
   "id": "8fd5d8da-1ca4-48fc-84cc-818fefe99532",
   "metadata": {},
   "source": [
    "## Now on to the 3x2pt datavector:"
   ]
  },
  {
   "cell_type": "code",
   "execution_count": null,
   "id": "e7f23b22-9fd3-4da5-b3e1-813d63d401ad",
   "metadata": {},
   "outputs": [],
   "source": [
    "# opt 1: concatenate, then flatten:\n",
    "D_3x2pt_concflat_C = np.concatenate((cl_LL, cl_GL, cl_GG), axis=1).flatten(order='C')\n",
    "# opt 2: flatten, then concatenate:\n",
    "D_3x2pt_flatconc_C = np.concatenate((cl_LL.flatten(order='C'), cl_GL.flatten(order='C'), cl_GG.flatten(order='C')))\n",
    "\n",
    "print('do cancatenation and C-flattening commute?', np.array_equal(D_3x2pt_concflat_C, D_3x2pt_flatconc_C))"
   ]
  },
  {
   "cell_type": "code",
   "execution_count": null,
   "id": "25c29e14-7836-4a07-afae-ef2afc4d393c",
   "metadata": {},
   "outputs": [],
   "source": [
    "# opt 1: concatenate, then flatten:\n",
    "D_3x2pt_concflat_F = np.concatenate((cl_LL, cl_GL, cl_GG), axis=1).flatten(order='F')\n",
    "# opt 2: flatten, then concatenate:\n",
    "D_3x2pt_flatconc_F = np.concatenate((cl_LL.flatten(order='F'), cl_GL.flatten(order='F'), cl_GG.flatten(order='F')))\n",
    "\n",
    "print('do cancatenation and F-flattening commute?', np.array_equal(D_3x2pt_concflat_F, D_3x2pt_flatconc_F), '(!!!)')"
   ]
  },
  {
   "cell_type": "code",
   "execution_count": null,
   "id": "1197f908-92f5-4249-b1d0-79419346c2f4",
   "metadata": {},
   "outputs": [],
   "source": [
    "# try with list comprehensions, as done in euclike.py:\n",
    "cl_flat = np.array(\n",
    "                [cl_LL[ell, zpair]\n",
    "                 for zpair in range(z_pairs)\n",
    "                 for ell in range(nbl)]\n",
    "            )\n",
    "\n",
    "print('does the flattening follow a column-major (Fortran-style) ordering?', np.all(cl_flat == cl_LL.flatten(order='F')))\n",
    "print('does the flattening follow a row-major (C-style) ordering?', np.all(cl_flat == cl_LL.flatten(order='C')))"
   ]
  },
  {
   "cell_type": "code",
   "execution_count": null,
   "id": "41090d3b-3684-4801-b4f5-8c21a1674472",
   "metadata": {},
   "outputs": [],
   "source": [
    "# plot the 2 C-possibilities\n",
    "plt.figure(figsize=(20, 10))\n",
    "plt.plot(D_3x2pt, label='flat D_3x2pt from CLOE')\n",
    "plt.plot(D_3x2pt_concflat_C, '--', alpha=0.6, label='D_3x2pt_concflat_C')\n",
    "plt.plot(D_3x2pt_flatconc_C, '--', alpha=0.8, label='D_3x2pt_flatconc_C')\n",
    "plt.yscale('log')\n",
    "plt.title('flattening: row-major (C-style)')\n",
    "plt.legend()"
   ]
  },
  {
   "cell_type": "code",
   "execution_count": null,
   "id": "4457d581-b4d3-40bf-890e-58f812c9bbb2",
   "metadata": {},
   "outputs": [],
   "source": [
    "# plot the 2 F-possibilities\n",
    "plt.figure(figsize=(20, 10))\n",
    "plt.plot(D_3x2pt, label='flat D_3x2pt from CLOE')\n",
    "plt.plot(D_3x2pt_concflat_F, '--', alpha=0.8, label='D_3x2pt_concflat_F')\n",
    "plt.plot(D_3x2pt_flatconc_F, '-.', alpha=0.6, label='D_3x2pt_flatconc_F')\n",
    "plt.yscale('log')\n",
    "plt.title('flattening: column-major (Fortran-style)\\nboth cases match: concatenation and flattening commute')\n",
    "plt.legend()"
   ]
  },
  {
   "cell_type": "markdown",
   "id": "d3c744cb-38d9-47c7-9765-ffc2a977884d",
   "metadata": {},
   "source": [
    "## Conclusion:\n",
    "- The flattening of the (3x2pt) follows a column-major (Fortran-style) ordering, which means that the outer loop runs over the last axis, in our case the z_pair. \n",
    "- Consequently, the covariance matrix 2D ordering must be changed: the \"blocks\" are no longer indexed by (`ell1`, `ell2`), but by (`ij`, `kl`)\n",
    "- the 3x2pt datavector does not change if we concatenate or flatten first. This means that the 3x2pt covariance matrix' ordering should not need any modification, except for the block ordering."
   ]
  },
  {
   "cell_type": "markdown",
   "id": "d7439928-71ba-43a6-acdf-b1abee2e8716",
   "metadata": {},
   "source": [
    "## Further checks:\n",
    "- check directly the flattened cl_LL and/or cl_LG datavector\n",
    "- run chains with the 2 possible 2D orderings of the 3x2pt covariance to check if we get the same results"
   ]
  },
  {
   "cell_type": "code",
   "execution_count": null,
   "id": "d5adcda5-f99b-438d-8e2c-8768fd0b819f",
   "metadata": {},
   "outputs": [],
   "source": []
  },
  {
   "cell_type": "code",
   "execution_count": null,
   "id": "86c2cf32-abbe-462c-a35e-b3ed8d97fa0b",
   "metadata": {},
   "outputs": [],
   "source": []
  },
  {
   "cell_type": "code",
   "execution_count": null,
   "id": "4b0a9e31-4ef2-4bb4-b409-088cb4ca18f3",
   "metadata": {},
   "outputs": [],
   "source": []
  }
 ],
 "metadata": {
  "kernelspec": {
   "display_name": "Python 3 (ipykernel)",
   "language": "python",
   "name": "python3"
  },
  "language_info": {
   "codemirror_mode": {
    "name": "ipython",
    "version": 3
   },
   "file_extension": ".py",
   "mimetype": "text/x-python",
   "name": "python",
   "nbconvert_exporter": "python",
   "pygments_lexer": "ipython3",
   "version": "3.9.11"
  }
 },
 "nbformat": 4,
 "nbformat_minor": 5
}
